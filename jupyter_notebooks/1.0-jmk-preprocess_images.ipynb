{
 "cells": [
  {
   "cell_type": "markdown",
   "metadata": {},
   "source": [
    "# 1. Import Libraries"
   ]
  },
  {
   "cell_type": "code",
   "execution_count": 2,
   "metadata": {},
   "outputs": [],
   "source": [
    "# Auto reloads src modules.\r\n",
    "%load_ext autoreload\r\n",
    "%autoreload 2\r\n",
    "\r\n",
    "proj_root = r'c:\\\\Users\\\\KMA62139\\\\OneDrive - Kia\\\\Documents - Big Data, Data Science\\\\Projects\\\\crnn-pytorch'\r\n",
    "import sys\r\n",
    "import os\r\n",
    "os.chdir(proj_root)\r\n",
    "if proj_root not in sys.path:\r\n",
    "    sys.path.append(proj_root)\r\n",
    "\r\n",
    "from pathlib import Path\r\n",
    "import pandas as pd\r\n",
    "from tqdm.auto import tqdm\r\n",
    "from src.data import preprocess\r\n",
    "\r\n",
    "tqdm.pandas()\r\n"
   ]
  },
  {
   "cell_type": "markdown",
   "metadata": {},
   "source": [
    "# 2. Extract Metadata for the Raw Images"
   ]
  },
  {
   "cell_type": "code",
   "execution_count": 3,
   "metadata": {},
   "outputs": [
    {
     "name": "stderr",
     "output_type": "stream",
     "text": [
      "100%|██████████| 5000/5000 [00:05<00:00, 974.13it/s] \n"
     ]
    }
   ],
   "source": [
    "\r\n",
    "# Extracts metadata related to the file path, label, and image width + height.\r\n",
    "wbsin_dir = Path().cwd() / \"data\" / \"raw\" / \"WBSIN_corrected\"\r\n",
    "wbsin_meta_df = preprocess.extract_jpg_meta(img_dir=wbsin_dir, img_type=\"wbsin\")\r\n",
    "wbsin_meta_df[\"xml_path\"] = wbsin_meta_df[\"file_path\"].apply(\r\n",
    "    lambda x: str(x).replace(\"jpg\", \"xml\")\r\n",
    ")\r\n",
    "\r\n",
    "wbsin_meta_df[\"bnd_box\"] = wbsin_meta_df[\"xml_path\"].progress_apply(lambda x: preprocess.extract_bnd_box(x))"
   ]
  },
  {
   "cell_type": "code",
   "execution_count": 5,
   "metadata": {},
   "outputs": [
    {
     "data": {
      "text/plain": [
       "WindowsPath('c:/Users/KMA62139/OneDrive - Kia/Documents - Big Data, Data Science/Projects/crnn-pytorch/data/raw/WBSIN_corrected/KVD1_WBSIN_20210305_1000_3KPA24AD6LE328168.jpg')"
      ]
     },
     "execution_count": 5,
     "metadata": {},
     "output_type": "execute_result"
    }
   ],
   "source": [
    "wbsin_meta_df[\"file_path\"].iloc[0]"
   ]
  },
  {
   "cell_type": "markdown",
   "metadata": {},
   "source": [
    "# 3. Crop Images with Bounding Boxes"
   ]
  },
  {
   "cell_type": "code",
   "execution_count": 24,
   "metadata": {},
   "outputs": [
    {
     "name": "stderr",
     "output_type": "stream",
     "text": [
      "100%|██████████| 5000/5000 [02:34<00:00, 32.32it/s]\n",
      "100%|██████████| 5000/5000 [00:00<00:00, 58134.40it/s]\n",
      "100%|██████████| 5000/5000 [00:00<00:00, 58134.72it/s]\n"
     ]
    }
   ],
   "source": [
    "wbsin_meta_df[\"crop_path\"] = wbsin_meta_df.progress_apply(\r\n",
    "    lambda row: preprocess.crop_and_save(\r\n",
    "        row[\"file_path\"],\r\n",
    "        row[\"label\"],\r\n",
    "        row[\"bnd_box\"][\"xmin\"],\r\n",
    "        row[\"bnd_box\"][\"xmax\"],\r\n",
    "        row[\"bnd_box\"][\"ymin\"],\r\n",
    "        row[\"bnd_box\"][\"ymax\"],\r\n",
    "        Path.cwd() / \"data\" / \"interim\" / \"cropped_wbsin_corrected_images\",\r\n",
    "    ),\r\n",
    "    axis=1,\r\n",
    ")\r\n",
    "\r\n",
    "\r\n",
    "wbsin_meta_df[\"crop_height\"] = wbsin_meta_df.progress_apply(\r\n",
    "    lambda row: row[\"bnd_box\"][\"ymax\"] - row[\"bnd_box\"][\"ymin\"], axis=1\r\n",
    ")\r\n",
    "wbsin_meta_df[\"crop_width\"] = wbsin_meta_df.progress_apply(\r\n",
    "    lambda row: row[\"bnd_box\"][\"xmax\"] - row[\"bnd_box\"][\"xmin\"], axis=1\r\n",
    ")\r\n",
    "\r\n",
    "wbsin_meta_df[\"crop_ratio\"] = wbsin_meta_df[\"crop_width\"] / wbsin_meta_df[\"crop_height\"]\r\n"
   ]
  },
  {
   "cell_type": "code",
   "execution_count": 26,
   "metadata": {},
   "outputs": [
    {
     "name": "stderr",
     "output_type": "stream",
     "text": [
      "100%|██████████| 5000/5000 [51:42<00:00,  1.61it/s]\n"
     ]
    }
   ],
   "source": [
    "wbsin_meta_df[\"proc_path\"] = wbsin_meta_df.progress_apply(\r\n",
    "    lambda row: preprocess.preprocess_cropped_image(\r\n",
    "        str(row[\"crop_path\"]),\r\n",
    "        row[\"label\"],\r\n",
    "        Path.cwd() / \"data\" / \"processed\" / \"wbsin_corrected_images\",\r\n",
    "    ),\r\n",
    "    axis=1,\r\n",
    ")"
   ]
  },
  {
   "cell_type": "code",
   "execution_count": null,
   "metadata": {},
   "outputs": [],
   "source": [
    "# Saves the extracted metadata.\r\n",
    "interim_path = Path.cwd() / \"data\" / \"processed\" \r\n",
    "interim_path.mkdir(parents=True, exist_ok=True)\r\n",
    "wbsin_meta_df.to_csv(interim_path / \"wbsin_corrected_processed_meta.csv\", index=False, mode=\"w+\")\r\n",
    "wbsin_meta_df"
   ]
  },
  {
   "cell_type": "code",
   "execution_count": null,
   "metadata": {},
   "outputs": [],
   "source": []
  },
  {
   "cell_type": "code",
   "execution_count": null,
   "metadata": {},
   "outputs": [],
   "source": []
  },
  {
   "cell_type": "code",
   "execution_count": null,
   "metadata": {},
   "outputs": [],
   "source": [
    "cropped_wbsin_meta_df = pd.read_csv(interim_path / \"cropped_wbsin_meta.csv\")\r\n",
    "sample_crop_path_arr = cropped_wbsin_meta_df[\"crop_path\"].head(5)\r\n",
    "\r\n",
    "for sample_crop_path in sample_crop_path_arr:\r\n",
    "\r\n",
    "    # Plots original image\r\n",
    "    img = cv2.imread(sample_crop_path,0)\r\n",
    "\r\n",
    "    plt.imshow(img)\r\n",
    "    plt.show()\r\n",
    "\r\n",
    "    # Plots the adaptive threshold image.\r\n",
    "    img = cv2.adaptiveThreshold(img,255,cv2.ADAPTIVE_THRESH_GAUSSIAN_C,cv2.THRESH_BINARY, blockSize=3,C=3)\r\n",
    "    plt.imshow(img)\r\n",
    "    plt.show()\r\n",
    "\r\n",
    "\r\n",
    "    # Plots the contour dilated image.\r\n",
    "    kernel = cv2.getStructuringElement(cv2.MORPH_ELLIPSE, (3, 1))\r\n",
    "    img = cv2.dilate(img, kernel)\r\n",
    "    plt.imshow(img)\r\n",
    "    plt.show()\r\n",
    "\r\n",
    "    # Plots the denoised Gaussian blurred image\r\n",
    "    blur = cv2.GaussianBlur(img,(3,3),0)\r\n",
    "    img = cv2.threshold(blur, 100, 255, cv2.THRESH_BINARY)[1]\r\n",
    "    plt.imshow(img)\r\n",
    "    plt.show()\r\n",
    "\r\n",
    "    # Plots the thinned image.\r\n",
    "    kernel = np.ones((3,3),np.uint8)\r\n",
    "    img = cv2.erode(img,kernel,iterations = 2)\r\n",
    "    plt.imshow(img)\r\n",
    "    plt.show()\r\n",
    "\r\n",
    "    # Fixes skew.\r\n",
    "    delta = .05\r\n",
    "    limit = 4\r\n",
    "    angles = np.arange(0, limit+delta, delta)\r\n",
    "    scores = []\r\n",
    "    for angle in angles:\r\n",
    "        hist, score = find_score(img, angle)\r\n",
    "        scores.append(score)\r\n",
    "    best_score = max(scores)\r\n",
    "    best_angle = angles[scores.index(best_score)]\r\n",
    "    best_angle = round(best_angle, 2)\r\n",
    "    print('Best angle: {}'.format(best_angle))\r\n",
    "\r\n",
    " #   img = img.rotate(best_angle, PIL.image.NEAREST, expand=1, fillcolor=\"white\")\r\n",
    "\r\n",
    "    img = im.fromarray(img)\r\n",
    "    img = img.rotate(best_angle, expand=1, fillcolor=\"white\")\r\n",
    " \r\n",
    "\r\n",
    "    plt.imshow(img)\r\n",
    "    plt.show()\r\n",
    "\r\n",
    "\r\n"
   ]
  }
 ],
 "metadata": {
  "interpreter": {
   "hash": "67d3329446b5a5bb83ba6144724c8fb879a4cf1f180dbb9f2633d8aac2ca7597"
  },
  "kernelspec": {
   "display_name": "Python 3.8.8 64-bit ('crnn_pytorch': conda)",
   "name": "python3"
  },
  "language_info": {
   "codemirror_mode": {
    "name": "ipython",
    "version": 3
   },
   "file_extension": ".py",
   "mimetype": "text/x-python",
   "name": "python",
   "nbconvert_exporter": "python",
   "pygments_lexer": "ipython3",
   "version": "3.8.8"
  },
  "orig_nbformat": 4
 },
 "nbformat": 4,
 "nbformat_minor": 2
}